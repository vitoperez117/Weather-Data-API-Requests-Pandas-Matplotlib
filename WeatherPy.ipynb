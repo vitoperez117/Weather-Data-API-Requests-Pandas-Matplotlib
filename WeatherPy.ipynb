{
 "cells": [
  {
   "cell_type": "markdown",
   "metadata": {},
   "source": [
    "# WeatherPy\n",
    "----\n",
    "\n",
    "#### Note\n",
    "* Instructions have been included for each segment. You do not have to follow them exactly, but they are included to help you think through the steps."
   ]
  },
  {
   "cell_type": "code",
   "execution_count": 7,
   "metadata": {
    "scrolled": true
   },
   "outputs": [],
   "source": [
    "# Dependencies and Setup\n",
    "import matplotlib.pyplot as plt\n",
    "import pandas as pd\n",
    "import numpy as np\n",
    "import requests\n",
    "from datetime import datetime\n",
    "import json\n",
    "\n",
    "import csv\n",
    "from pprint import pprint\n",
    "\n",
    "# Import API key\n",
    "from api_keys import api_key\n",
    "\n",
    "# Incorporated citipy to determine city based on latitude and longitude\n",
    "from citipy import citipy\n",
    "\n",
    "# Output File (CSV)\n",
    "output_data_file = \"output_data/cities.csv\"\n",
    "\n",
    "# Range of latitudes and longitudes\n",
    "lat_range = (-90, 90)\n",
    "lng_range = (-180, 180)"
   ]
  },
  {
   "cell_type": "markdown",
   "metadata": {},
   "source": [
    "## Generate Cities List"
   ]
  },
  {
   "cell_type": "code",
   "execution_count": 8,
   "metadata": {},
   "outputs": [
    {
     "data": {
      "text/html": [
       "<div>\n",
       "<style scoped>\n",
       "    .dataframe tbody tr th:only-of-type {\n",
       "        vertical-align: middle;\n",
       "    }\n",
       "\n",
       "    .dataframe tbody tr th {\n",
       "        vertical-align: top;\n",
       "    }\n",
       "\n",
       "    .dataframe thead th {\n",
       "        text-align: right;\n",
       "    }\n",
       "</style>\n",
       "<table border=\"1\" class=\"dataframe\">\n",
       "  <thead>\n",
       "    <tr style=\"text-align: right;\">\n",
       "      <th></th>\n",
       "      <th>0</th>\n",
       "    </tr>\n",
       "  </thead>\n",
       "  <tbody>\n",
       "    <tr>\n",
       "      <td>0</td>\n",
       "      <td>ushuaia</td>\n",
       "    </tr>\n",
       "    <tr>\n",
       "      <td>1</td>\n",
       "      <td>cape town</td>\n",
       "    </tr>\n",
       "    <tr>\n",
       "      <td>2</td>\n",
       "      <td>pevek</td>\n",
       "    </tr>\n",
       "    <tr>\n",
       "      <td>3</td>\n",
       "      <td>matagami</td>\n",
       "    </tr>\n",
       "    <tr>\n",
       "      <td>4</td>\n",
       "      <td>butaritari</td>\n",
       "    </tr>\n",
       "  </tbody>\n",
       "</table>\n",
       "</div>"
      ],
      "text/plain": [
       "            0\n",
       "0     ushuaia\n",
       "1   cape town\n",
       "2       pevek\n",
       "3    matagami\n",
       "4  butaritari"
      ]
     },
     "execution_count": 8,
     "metadata": {},
     "output_type": "execute_result"
    }
   ],
   "source": [
    "# List for holding lat_lngs and cities\n",
    "lat_lngs = []\n",
    "cities = []\n",
    "\n",
    "# Create a set of random lat and lng combinations\n",
    "lats = np.random.uniform(low=-90.000, high=90.000, size=10)\n",
    "lngs = np.random.uniform(low=-180.000, high=180.000, size=10)\n",
    "lat_lngs = zip(lats, lngs)\n",
    "\n",
    "# Identify nearest city for each lat, lng combination\n",
    "for lat_lng in lat_lngs:\n",
    "    city = citipy.nearest_city(lat_lng[0], lat_lng[1]).city_name\n",
    "    \n",
    "    # If the city is unique, then add it to a our cities list\n",
    "    if city not in cities:\n",
    "        cities.append(city)\n",
    "\n",
    "# Print the city count to confirm sufficient count\n",
    "pd.DataFrame(cities).head()\n"
   ]
  },
  {
   "cell_type": "markdown",
   "metadata": {},
   "source": [
    "### Perform API Calls\n",
    "* Perform a weather check on each city using a series of successive API calls.\n",
    "* Include a print log of each city as it'sbeing processed (with the city number and city name).\n"
   ]
  },
  {
   "cell_type": "code",
   "execution_count": 11,
   "metadata": {},
   "outputs": [
    {
     "name": "stdout",
     "output_type": "stream",
     "text": [
      "Weather data from USHUAIA requested: city 1 out of 49, from set 0\n",
      "Weather data from CAPE TOWN requested: city 2 out of 49, from set 0\n",
      "Weather data from PEVEK requested: city 3 out of 49, from set 0\n",
      "Weather data from MATAGAMI requested: city 4 out of 49, from set 0\n",
      "Weather data from BUTARITARI requested: city 5 out of 49, from set 0\n",
      "Weather data from POUM requested: city 6 out of 49, from set 0\n",
      "Weather data from ARRAIAL DO CABO requested: city 7 out of 49, from set 0\n",
      "Weather data from PUNTA ARENAS requested: city 8 out of 49, from set 0\n",
      "Weather data from HERMANUS requested: city 9 out of 49, from set 0\n",
      "City not found\n",
      "Weather data from TAOLANARO requested: city 10 out of 49, from set 0\n"
     ]
    }
   ],
   "source": [
    "base_url = \"http://api.openweathermap.org/data/2.5/weather?\"\n",
    "\n",
    "cloudiness = []\n",
    "country = []\n",
    "date = []\n",
    "humidity = []\n",
    "lat = []\n",
    "lng =[]\n",
    "max_temp = []\n",
    "wind_speed = []\n",
    "\n",
    "counter = 0\n",
    "set_counter = 0\n",
    "\n",
    "\n",
    "for city in cities:\n",
    "    url = f\"{base_url}q={city}&APPID={api_key}\"\n",
    "    try:\n",
    "        weather = requests.get(url).json()\n",
    "\n",
    "        \n",
    "\n",
    "        cloudiness.append(weather['clouds']['all'])\n",
    "        country.append(weather['sys']['country'])\n",
    "        date.append(weather['dt'])\n",
    "        humidity.append(weather['main']['humidity'])\n",
    "        max_temp.append(weather['main']['temp_max'])\n",
    "        wind_speed.append(weather['wind']['speed'])\n",
    "        lat.append(weather['coord']['lat'])\n",
    "        lng.append(weather['coord']['lon'])\n",
    "    except:\n",
    "        print(f'City not found')\n",
    "\n",
    "    json.dumps(weather, indent = 4, sort_keys = False)\n",
    "    \n",
    "    if counter <50:\n",
    "        counter +=1\n",
    "    elif counter >=50:\n",
    "        counter = 0\n",
    "        set_counter +=1\n",
    "    print(f\"Weather data from {city.upper()} requested: city {counter} out of 49, from set {set_counter}\")\n"
   ]
  },
  {
   "cell_type": "code",
   "execution_count": 12,
   "metadata": {},
   "outputs": [
    {
     "data": {
      "text/html": [
       "<div>\n",
       "<style scoped>\n",
       "    .dataframe tbody tr th:only-of-type {\n",
       "        vertical-align: middle;\n",
       "    }\n",
       "\n",
       "    .dataframe tbody tr th {\n",
       "        vertical-align: top;\n",
       "    }\n",
       "\n",
       "    .dataframe thead th {\n",
       "        text-align: right;\n",
       "    }\n",
       "</style>\n",
       "<table border=\"1\" class=\"dataframe\">\n",
       "  <thead>\n",
       "    <tr style=\"text-align: right;\">\n",
       "      <th></th>\n",
       "      <th>Cities</th>\n",
       "      <th>Cloudiness</th>\n",
       "      <th>Country</th>\n",
       "      <th>Date</th>\n",
       "      <th>Humidity</th>\n",
       "      <th>Max Temp</th>\n",
       "      <th>Wind Speed</th>\n",
       "      <th>Latitude</th>\n",
       "      <th>Longitude</th>\n",
       "    </tr>\n",
       "  </thead>\n",
       "  <tbody>\n",
       "    <tr>\n",
       "      <td>0</td>\n",
       "      <td>ushuaia</td>\n",
       "      <td>0</td>\n",
       "      <td>AR</td>\n",
       "      <td>1571630054</td>\n",
       "      <td>70</td>\n",
       "      <td>279.150</td>\n",
       "      <td>2.60</td>\n",
       "      <td>-54.81</td>\n",
       "      <td>-68.31</td>\n",
       "    </tr>\n",
       "    <tr>\n",
       "      <td>1</td>\n",
       "      <td>cape town</td>\n",
       "      <td>40</td>\n",
       "      <td>ZA</td>\n",
       "      <td>1571630054</td>\n",
       "      <td>71</td>\n",
       "      <td>287.590</td>\n",
       "      <td>0.50</td>\n",
       "      <td>-33.93</td>\n",
       "      <td>18.42</td>\n",
       "    </tr>\n",
       "    <tr>\n",
       "      <td>2</td>\n",
       "      <td>pevek</td>\n",
       "      <td>98</td>\n",
       "      <td>RU</td>\n",
       "      <td>1571630055</td>\n",
       "      <td>72</td>\n",
       "      <td>270.808</td>\n",
       "      <td>5.71</td>\n",
       "      <td>69.70</td>\n",
       "      <td>170.27</td>\n",
       "    </tr>\n",
       "    <tr>\n",
       "      <td>3</td>\n",
       "      <td>matagami</td>\n",
       "      <td>100</td>\n",
       "      <td>NG</td>\n",
       "      <td>1571630055</td>\n",
       "      <td>95</td>\n",
       "      <td>293.318</td>\n",
       "      <td>1.21</td>\n",
       "      <td>9.67</td>\n",
       "      <td>8.40</td>\n",
       "    </tr>\n",
       "    <tr>\n",
       "      <td>4</td>\n",
       "      <td>butaritari</td>\n",
       "      <td>46</td>\n",
       "      <td>KI</td>\n",
       "      <td>1571630055</td>\n",
       "      <td>67</td>\n",
       "      <td>302.788</td>\n",
       "      <td>4.65</td>\n",
       "      <td>3.07</td>\n",
       "      <td>172.79</td>\n",
       "    </tr>\n",
       "    <tr>\n",
       "      <td>5</td>\n",
       "      <td>poum</td>\n",
       "      <td>20</td>\n",
       "      <td>MK</td>\n",
       "      <td>1571630125</td>\n",
       "      <td>87</td>\n",
       "      <td>280.150</td>\n",
       "      <td>1.50</td>\n",
       "      <td>41.28</td>\n",
       "      <td>20.71</td>\n",
       "    </tr>\n",
       "    <tr>\n",
       "      <td>6</td>\n",
       "      <td>arraial do cabo</td>\n",
       "      <td>77</td>\n",
       "      <td>BR</td>\n",
       "      <td>1571630125</td>\n",
       "      <td>70</td>\n",
       "      <td>294.018</td>\n",
       "      <td>4.90</td>\n",
       "      <td>-22.97</td>\n",
       "      <td>-42.02</td>\n",
       "    </tr>\n",
       "    <tr>\n",
       "      <td>7</td>\n",
       "      <td>punta arenas</td>\n",
       "      <td>0</td>\n",
       "      <td>CL</td>\n",
       "      <td>1571630126</td>\n",
       "      <td>75</td>\n",
       "      <td>278.150</td>\n",
       "      <td>7.70</td>\n",
       "      <td>-53.16</td>\n",
       "      <td>-70.91</td>\n",
       "    </tr>\n",
       "    <tr>\n",
       "      <td>8</td>\n",
       "      <td>hermanus</td>\n",
       "      <td>100</td>\n",
       "      <td>ZA</td>\n",
       "      <td>1571630126</td>\n",
       "      <td>68</td>\n",
       "      <td>288.150</td>\n",
       "      <td>1.34</td>\n",
       "      <td>-34.42</td>\n",
       "      <td>19.24</td>\n",
       "    </tr>\n",
       "  </tbody>\n",
       "</table>\n",
       "</div>"
      ],
      "text/plain": [
       "            Cities  Cloudiness Country        Date  Humidity  Max Temp  \\\n",
       "0          ushuaia           0      AR  1571630054        70   279.150   \n",
       "1        cape town          40      ZA  1571630054        71   287.590   \n",
       "2            pevek          98      RU  1571630055        72   270.808   \n",
       "3         matagami         100      NG  1571630055        95   293.318   \n",
       "4       butaritari          46      KI  1571630055        67   302.788   \n",
       "5             poum          20      MK  1571630125        87   280.150   \n",
       "6  arraial do cabo          77      BR  1571630125        70   294.018   \n",
       "7     punta arenas           0      CL  1571630126        75   278.150   \n",
       "8         hermanus         100      ZA  1571630126        68   288.150   \n",
       "\n",
       "   Wind Speed  Latitude  Longitude  \n",
       "0        2.60    -54.81     -68.31  \n",
       "1        0.50    -33.93      18.42  \n",
       "2        5.71     69.70     170.27  \n",
       "3        1.21      9.67       8.40  \n",
       "4        4.65      3.07     172.79  \n",
       "5        1.50     41.28      20.71  \n",
       "6        4.90    -22.97     -42.02  \n",
       "7        7.70    -53.16     -70.91  \n",
       "8        1.34    -34.42      19.24  "
      ]
     },
     "execution_count": 12,
     "metadata": {},
     "output_type": "execute_result"
    }
   ],
   "source": [
    "#Write extracted data into csv file\n",
    "ls_zip = zip(cities, cloudiness, country, date, humidity, max_temp, wind_speed, lat, lng)\n",
    "\n",
    "weather_df = pd.DataFrame(data = ls_zip)\n",
    "weather_df = weather_df.rename(columns = {0:\"Cities\",\n",
    "                                          1: \"Cloudiness\",\n",
    "                                          2: \"Country\",\n",
    "                                          3: \"Date\",\n",
    "                                          4: \"Humidity\",\n",
    "                                          5: \"Max Temp\",\n",
    "                                          6: \"Wind Speed\",\n",
    "                                          7: \"Latitude\",\n",
    "                                          8: \"Longitude\"\n",
    "                                         })\n",
    "weather_df"
   ]
  },
  {
   "cell_type": "code",
   "execution_count": 13,
   "metadata": {},
   "outputs": [],
   "source": [
    "#Write data frame into csv file\n",
    "weather_df.to_csv(\"draft_city_weather_data.csv\",encoding = 'utf-8')"
   ]
  },
  {
   "cell_type": "markdown",
   "metadata": {},
   "source": [
    "### Plotting the Data\n",
    "* Use proper labeling of the plots using plot titles (including date of analysis) and axes labels.\n",
    "* Save the plotted figures as .pngs."
   ]
  },
  {
   "cell_type": "markdown",
   "metadata": {},
   "source": [
    "#### Latitude vs. Temperature Plot"
   ]
  },
  {
   "cell_type": "code",
   "execution_count": 14,
   "metadata": {},
   "outputs": [
    {
     "data": {
      "image/png": "[encoded data removed]",
      "text/plain": [
       "<Figure size 432x288 with 1 Axes>"
      ]
     },
     "metadata": {
      "needs_background": "light"
     },
     "output_type": "display_data"
    }
   ],
   "source": [
    "plt.scatter(lat, max_temp, edgecolors = 'k')\n",
    "plt.xlabel(\"Latitude\")\n",
    "plt.ylabel(\"Temperature (Kelvin)\")\n",
    "plt.xlim(-95,95)\n",
    "plt.ylim(200,350)\n",
    "\n",
    "plt.grid()\n",
    "\n",
    "plot_date = datetime.fromtimestamp(weather_df['Date'][0]).date()\n",
    "plt.title(f\"City Latitude vs Temperature (Kelvin) ({plot_date})\")\n",
    "plt.savefig (\"test Latitude vs Temperature (Kelvin) Scatterplot.png\")\n",
    "plt.show()\n"
   ]
  },
  {
   "cell_type": "markdown",
   "metadata": {},
   "source": [
    "#### Latitude vs. Humidity Plot"
   ]
  },
  {
   "cell_type": "code",
   "execution_count": 15,
   "metadata": {},
   "outputs": [
    {
     "data": {
      "image/png": "[encoded data removed]",
      "text/plain": [
       "<Figure size 432x288 with 1 Axes>"
      ]
     },
     "metadata": {
      "needs_background": "light"
     },
     "output_type": "display_data"
    }
   ],
   "source": [
    "plt.scatter(lat, humidity, edgecolors = 'k')\n",
    "plt.xlabel(\"Latitude\")\n",
    "plt.ylabel(\"Humidity (%)\")\n",
    "plt.xlim(-95,95)\n",
    "plt.ylim(65,102)\n",
    "plt.grid()\n",
    "\n",
    "plot_date = datetime.fromtimestamp(weather_df['Date'][0]).date()\n",
    "plt.title(f\"City Latitude vs Humidity (%) ({plot_date})\")\n",
    "plt.show()"
   ]
  },
  {
   "cell_type": "markdown",
   "metadata": {},
   "source": [
    "#### Latitude vs. Cloudiness Plot"
   ]
  },
  {
   "cell_type": "code",
   "execution_count": 16,
   "metadata": {},
   "outputs": [
    {
     "data": {
      "image/png": "[encoded data removed]",
      "text/plain": [
       "<Figure size 432x288 with 1 Axes>"
      ]
     },
     "metadata": {
      "needs_background": "light"
     },
     "output_type": "display_data"
    }
   ],
   "source": [
    "plt.scatter(lat, cloudiness, edgecolors = 'k')\n",
    "plt.xlabel(\"Latitude\")\n",
    "plt.ylabel(\"Cloudiness\")\n",
    "plt.xlim(-95,95)\n",
    "\n",
    "plt.grid()\n",
    "\n",
    "plot_date = datetime.fromtimestamp(weather_df['Date'][0]).date()\n",
    "plt.title(f\"City Latitude vs Cloudiness (%) ({plot_date})\")\n",
    "plt.show()"
   ]
  },
  {
   "cell_type": "markdown",
   "metadata": {},
   "source": [
    "#### Latitude vs. Wind Speed Plot"
   ]
  },
  {
   "cell_type": "code",
   "execution_count": 17,
   "metadata": {},
   "outputs": [
    {
     "data": {
      "image/png": "[encoded data removed]",
      "text/plain": [
       "<Figure size 432x288 with 1 Axes>"
      ]
     },
     "metadata": {
      "needs_background": "light"
     },
     "output_type": "display_data"
    }
   ],
   "source": [
    "plt.scatter(lat, wind_speed, edgecolors = 'k')\n",
    "plt.xlabel(\"Latitude\")\n",
    "plt.ylabel(\"Wind Speed (m/s)\")\n",
    "plt.xlim(-95,95)\n",
    "\n",
    "plt.grid()\n",
    "\n",
    "plot_date = datetime.fromtimestamp(weather_df['Date'][0]).date()\n",
    "plt.title(f\"City Latitude vs Wind Speed (m/s) ({plot_date})\")\n",
    "plt.show()"
   ]
  },
  {
   "cell_type": "code",
   "execution_count": null,
   "metadata": {},
   "outputs": [],
   "source": []
  }
 ],
 "metadata": {
  "anaconda-cloud": {},
  "kernel_info": {
   "name": "python3"
  },
  "kernelspec": {
   "display_name": "Python 3",
   "language": "python",
   "name": "python3"
  },
  "language_info": {
   "codemirror_mode": {
    "name": "ipython",
    "version": 3
   },
   "file_extension": ".py",
   "mimetype": "text/x-python",
   "name": "python",
   "nbconvert_exporter": "python",
   "pygments_lexer": "ipython3",
   "version": "3.7.4"
  },
  "nteract": {
   "version": "0.12.3"
  }
 },
 "nbformat": 4,
 "nbformat_minor": 4
}
